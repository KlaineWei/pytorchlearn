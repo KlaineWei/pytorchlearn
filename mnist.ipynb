{
 "cells": [
  {
   "cell_type": "code",
   "execution_count": 83,
   "id": "6635119f-0394-4bb9-a5c4-6d2e9e0558ce",
   "metadata": {},
   "outputs": [],
   "source": [
    "import torch\n",
    "from torch import nn\n",
    "from torch.utils.data import DataLoader, random_split\n",
    "from torchvision import datasets\n",
    "from torchvision.transforms import ToTensor\n",
    "from torch.utils.tensorboard import SummaryWriter"
   ]
  },
  {
   "cell_type": "markdown",
   "id": "9d70610b-cf45-471b-b2fa-016284c0306b",
   "metadata": {},
   "source": [
    "# 载入训练集与测试集"
   ]
  },
  {
   "cell_type": "code",
   "execution_count": 84,
   "id": "23697b7b-dda4-4d6d-8232-7c0225fc9bad",
   "metadata": {},
   "outputs": [],
   "source": [
    "train_data = datasets.FashionMNIST(\n",
    "    root=\"data\",\n",
    "    train=True,\n",
    "    download=True,\n",
    "    transform=ToTensor()\n",
    ")\n",
    "\n",
    "test_data = datasets.FashionMNIST(\n",
    "    root=\"data\",\n",
    "    train=False,\n",
    "    download=True,\n",
    "    transform=ToTensor()\n",
    ")"
   ]
  },
  {
   "cell_type": "code",
   "execution_count": 85,
   "id": "051daf9e-adf7-4449-a2fd-9d5a989bd5f6",
   "metadata": {},
   "outputs": [
    {
     "data": {
      "text/plain": [
       "60000"
      ]
     },
     "execution_count": 85,
     "metadata": {},
     "output_type": "execute_result"
    }
   ],
   "source": [
    "len(train_data)"
   ]
  },
  {
   "cell_type": "markdown",
   "id": "843fd945-01d2-44f6-98dc-7b2cd84c1036",
   "metadata": {},
   "source": [
    "# 将训练集划分成训练集及验证集"
   ]
  },
  {
   "cell_type": "code",
   "execution_count": 86,
   "id": "1077ab13-683c-4546-8de7-e405a4f07a39",
   "metadata": {},
   "outputs": [],
   "source": [
    "# train_data, val_data = random_split(train_data, [50000,10000])"
   ]
  },
  {
   "cell_type": "markdown",
   "id": "98728975-7644-498c-afbe-86b68fed978e",
   "metadata": {
    "tags": []
   },
   "source": [
    "# 将数据转成DataLoader格式，并设置batchsize和shuffle"
   ]
  },
  {
   "cell_type": "code",
   "execution_count": 87,
   "id": "7782ec0e-1b36-4915-be01-e05190e51a04",
   "metadata": {},
   "outputs": [],
   "source": [
    "batch_size = 64\n",
    "learning_rate = 1e-3\n",
    "epochs = 10"
   ]
  },
  {
   "cell_type": "code",
   "execution_count": 88,
   "id": "123ba5ce-6d49-4c88-bf64-4e6b1ed08454",
   "metadata": {},
   "outputs": [],
   "source": [
    "train_loader = DataLoader(train_data, batch_size=batch_size, shuffle=True)\n",
    "#val_loader = DataLoader(val_data, batch_size=batch_size, shuffle=True)\n",
    "test_loader = DataLoader(test_data, batch_size=batch_size, shuffle=True)"
   ]
  },
  {
   "cell_type": "markdown",
   "id": "0e577894-2fd4-44d9-9600-3cbec5972dcb",
   "metadata": {},
   "source": [
    "# 定义网络结构"
   ]
  },
  {
   "cell_type": "code",
   "execution_count": 89,
   "id": "3f4a703c-feb5-4dc5-8000-9d61f316e4cf",
   "metadata": {},
   "outputs": [],
   "source": [
    "class Net(nn.Module):\n",
    "    def __init__(self):\n",
    "        super(Net, self).__init__()\n",
    "        self.flatten = nn.Flatten()\n",
    "        self.linear_relu_stack = nn.Sequential(\n",
    "            nn.Linear(28*28, 512),\n",
    "            nn.ReLU(),\n",
    "            nn.Linear(512,512),\n",
    "            nn.ReLU(),\n",
    "            nn.Linear(512,10),\n",
    "        )\n",
    "        \n",
    "    def forward(self, x):\n",
    "        x = self.flatten(x)\n",
    "        logits = self.linear_relu_stack(x)\n",
    "        return logits\n",
    "    \n",
    "model = Net()"
   ]
  },
  {
   "cell_type": "markdown",
   "id": "9f9474f8-885a-4c05-8c52-f253ffa65218",
   "metadata": {},
   "source": [
    "# 定义loss及优化器"
   ]
  },
  {
   "cell_type": "code",
   "execution_count": 90,
   "id": "d5f671bf-d568-424c-88d9-cc70ee4c8b32",
   "metadata": {},
   "outputs": [],
   "source": [
    "loss_fn = nn.CrossEntropyLoss()\n",
    "optimizer = torch.optim.SGD(model.parameters(), lr=learning_rate)\n",
    "writer = SummaryWriter('runs/fashion_mnist_experiment_1')"
   ]
  },
  {
   "cell_type": "markdown",
   "id": "4f630809-c8e5-4da9-9dc0-95570ca818d7",
   "metadata": {},
   "source": [
    "# 定义train"
   ]
  },
  {
   "cell_type": "code",
   "execution_count": 91,
   "id": "afef820f-32a6-49d0-a0ac-effc540e1b85",
   "metadata": {},
   "outputs": [],
   "source": [
    "def train_loop(dataloader, model, loss_fn, optimizer, epoch):\n",
    "    size = len(dataloader.dataset)\n",
    "    for batch, (X, y) in enumerate(dataloader):\n",
    "        # 计算loss\n",
    "        pred = model(X)\n",
    "        correct = (pred.argmax(1) == y).type(torch.float).sum().item()\n",
    "        loss = loss_fn(pred, y)\n",
    "        \n",
    "        # 反向传播\n",
    "        optimizer.zero_grad()\n",
    "        loss.backward()\n",
    "        optimizer.step()\n",
    "        \n",
    "        if batch % 100 == 0:\n",
    "            loss, current = loss.item(), batch * len(X)\n",
    "            correct /= len(X)\n",
    "            print(f\"loss: {loss:>7f}, accuracy: {(100*correct):>0.1f}% [{current:>5d}/{size:>5d}]\")\n",
    "            writer.add_scalars('Train',\n",
    "                               {'loss': loss, 'accuracy': correct},\n",
    "                               current + size * epoch)\n",
    "            writer.flush()\n",
    "            \n",
    "    writer.flush()"
   ]
  },
  {
   "cell_type": "markdown",
   "id": "9f311346-f29f-45e5-8e0b-958ccd3ed46d",
   "metadata": {},
   "source": [
    "# 定义test"
   ]
  },
  {
   "cell_type": "code",
   "execution_count": 92,
   "id": "531246dc-8c33-4409-b68f-a8815f3af138",
   "metadata": {},
   "outputs": [],
   "source": [
    "def test_loop(dataloader, model, loss_fn, optimizer, epoch):\n",
    "    size = len(dataloader.dataset)\n",
    "    num_batch = len(dataloader)\n",
    "    test_loss, correct = 0, 0\n",
    "    \n",
    "    with torch.no_grad():\n",
    "        for X, y in dataloader:\n",
    "            pred = model(X)\n",
    "            test_loss += loss_fn(pred, y).item()\n",
    "            correct += (pred.argmax(1) == y).type(torch.float).sum().item()\n",
    "            \n",
    "    test_loss /= num_batch\n",
    "    correct /= size\n",
    "    current = epoch * size\n",
    "    print(f\"Test Error: \\n Accuracy: {(100*correct):>0.1f}%, Avg loss: {test_loss:>8f} \\n\")\n",
    "    writer.add_scalars('Test',\n",
    "                       {'loss': test_loss, 'accuracy': correct},\n",
    "                       current)\n",
    "    writer.flush()"
   ]
  },
  {
   "cell_type": "markdown",
   "id": "080f5247-a54e-44c1-8bdb-01e7eee195ab",
   "metadata": {},
   "source": [
    "# 开始训练"
   ]
  },
  {
   "cell_type": "code",
   "execution_count": 93,
   "id": "639686c4-1c51-4c51-a2c0-6e25450025c3",
   "metadata": {},
   "outputs": [
    {
     "name": "stdout",
     "output_type": "stream",
     "text": [
      "Epoch 1\n",
      "--------------------------\n",
      "loss: 2.307419, accuracy: 9.4% [    0/60000]\n",
      "loss: 2.289490, accuracy: 9.4% [ 6400/60000]\n",
      "loss: 2.281082, accuracy: 15.6% [12800/60000]\n",
      "loss: 2.266302, accuracy: 25.0% [19200/60000]\n",
      "loss: 2.250245, accuracy: 26.6% [25600/60000]\n",
      "loss: 2.225015, accuracy: 48.4% [32000/60000]\n",
      "loss: 2.217156, accuracy: 35.9% [38400/60000]\n",
      "loss: 2.197673, accuracy: 50.0% [44800/60000]\n",
      "loss: 2.203388, accuracy: 51.6% [51200/60000]\n",
      "loss: 2.189970, accuracy: 53.1% [57600/60000]\n",
      "Test Error: \n",
      " Accuracy: 53.7%, Avg loss: 2.159365 \n",
      "\n",
      "Epoch 2\n",
      "--------------------------\n",
      "loss: 2.182321, accuracy: 42.2% [    0/60000]\n",
      "loss: 2.141686, accuracy: 59.4% [ 6400/60000]\n",
      "loss: 2.112536, accuracy: 62.5% [12800/60000]\n",
      "loss: 2.058203, accuracy: 65.6% [19200/60000]\n",
      "loss: 2.056675, accuracy: 60.9% [25600/60000]\n",
      "loss: 2.019469, accuracy: 60.9% [32000/60000]\n",
      "loss: 1.978402, accuracy: 64.1% [38400/60000]\n",
      "loss: 1.952573, accuracy: 57.8% [44800/60000]\n",
      "loss: 1.924772, accuracy: 65.6% [51200/60000]\n",
      "loss: 1.929375, accuracy: 48.4% [57600/60000]\n",
      "Test Error: \n",
      " Accuracy: 58.1%, Avg loss: 1.889710 \n",
      "\n",
      "Epoch 3\n",
      "--------------------------\n",
      "loss: 1.847060, accuracy: 64.1% [    0/60000]\n",
      "loss: 1.858959, accuracy: 57.8% [ 6400/60000]\n",
      "loss: 1.815110, accuracy: 59.4% [12800/60000]\n",
      "loss: 1.821216, accuracy: 48.4% [19200/60000]\n",
      "loss: 1.686584, accuracy: 62.5% [25600/60000]\n",
      "loss: 1.676334, accuracy: 60.9% [32000/60000]\n",
      "loss: 1.628792, accuracy: 54.7% [38400/60000]\n",
      "loss: 1.600271, accuracy: 60.9% [44800/60000]\n",
      "loss: 1.564820, accuracy: 48.4% [51200/60000]\n",
      "loss: 1.598830, accuracy: 56.2% [57600/60000]\n",
      "Test Error: \n",
      " Accuracy: 61.1%, Avg loss: 1.516243 \n",
      "\n",
      "Epoch 4\n",
      "--------------------------\n",
      "loss: 1.482746, accuracy: 64.1% [    0/60000]\n",
      "loss: 1.412197, accuracy: 65.6% [ 6400/60000]\n",
      "loss: 1.424274, accuracy: 64.1% [12800/60000]\n",
      "loss: 1.357495, accuracy: 67.2% [19200/60000]\n",
      "loss: 1.420392, accuracy: 65.6% [25600/60000]\n",
      "loss: 1.232676, accuracy: 68.8% [32000/60000]\n",
      "loss: 1.282621, accuracy: 62.5% [38400/60000]\n",
      "loss: 1.361274, accuracy: 68.8% [44800/60000]\n",
      "loss: 1.442439, accuracy: 54.7% [51200/60000]\n",
      "loss: 1.174722, accuracy: 60.9% [57600/60000]\n",
      "Test Error: \n",
      " Accuracy: 64.1%, Avg loss: 1.246446 \n",
      "\n",
      "Epoch 5\n",
      "--------------------------\n",
      "loss: 1.327596, accuracy: 57.8% [    0/60000]\n",
      "loss: 1.182977, accuracy: 67.2% [ 6400/60000]\n",
      "loss: 1.191683, accuracy: 56.2% [12800/60000]\n",
      "loss: 1.250977, accuracy: 54.7% [19200/60000]\n",
      "loss: 1.098506, accuracy: 65.6% [25600/60000]\n",
      "loss: 1.201216, accuracy: 64.1% [32000/60000]\n",
      "loss: 1.193496, accuracy: 50.0% [38400/60000]\n",
      "loss: 1.098448, accuracy: 65.6% [44800/60000]\n",
      "loss: 1.029096, accuracy: 65.6% [51200/60000]\n",
      "loss: 1.060854, accuracy: 64.1% [57600/60000]\n",
      "Test Error: \n",
      " Accuracy: 65.1%, Avg loss: 1.078789 \n",
      "\n",
      "Epoch 6\n",
      "--------------------------\n",
      "loss: 0.987953, accuracy: 75.0% [    0/60000]\n",
      "loss: 1.073166, accuracy: 60.9% [ 6400/60000]\n",
      "loss: 0.979853, accuracy: 76.6% [12800/60000]\n",
      "loss: 0.963533, accuracy: 71.9% [19200/60000]\n",
      "loss: 0.986647, accuracy: 64.1% [25600/60000]\n",
      "loss: 1.212871, accuracy: 60.9% [32000/60000]\n",
      "loss: 0.954651, accuracy: 60.9% [38400/60000]\n",
      "loss: 0.905408, accuracy: 73.4% [44800/60000]\n",
      "loss: 1.045132, accuracy: 64.1% [51200/60000]\n",
      "loss: 0.983757, accuracy: 62.5% [57600/60000]\n",
      "Test Error: \n",
      " Accuracy: 65.5%, Avg loss: 0.973468 \n",
      "\n",
      "Epoch 7\n",
      "--------------------------\n",
      "loss: 0.979622, accuracy: 67.2% [    0/60000]\n",
      "loss: 1.034986, accuracy: 62.5% [ 6400/60000]\n",
      "loss: 0.921983, accuracy: 73.4% [12800/60000]\n",
      "loss: 0.959402, accuracy: 65.6% [19200/60000]\n",
      "loss: 0.874337, accuracy: 67.2% [25600/60000]\n",
      "loss: 0.936107, accuracy: 60.9% [32000/60000]\n",
      "loss: 0.930430, accuracy: 70.3% [38400/60000]\n",
      "loss: 0.879965, accuracy: 65.6% [44800/60000]\n",
      "loss: 0.968151, accuracy: 67.2% [51200/60000]\n",
      "loss: 0.906311, accuracy: 68.8% [57600/60000]\n",
      "Test Error: \n",
      " Accuracy: 67.5%, Avg loss: 0.903293 \n",
      "\n",
      "Epoch 8\n",
      "--------------------------\n",
      "loss: 0.909355, accuracy: 70.3% [    0/60000]\n",
      "loss: 0.871275, accuracy: 75.0% [ 6400/60000]\n",
      "loss: 0.955176, accuracy: 75.0% [12800/60000]\n",
      "loss: 0.746751, accuracy: 87.5% [19200/60000]\n",
      "loss: 0.930405, accuracy: 76.6% [25600/60000]\n",
      "loss: 0.753954, accuracy: 78.1% [32000/60000]\n",
      "loss: 0.913991, accuracy: 67.2% [38400/60000]\n",
      "loss: 0.882839, accuracy: 68.8% [44800/60000]\n",
      "loss: 0.820574, accuracy: 76.6% [51200/60000]\n",
      "loss: 0.758441, accuracy: 73.4% [57600/60000]\n",
      "Test Error: \n",
      " Accuracy: 68.5%, Avg loss: 0.852472 \n",
      "\n",
      "Epoch 9\n",
      "--------------------------\n",
      "loss: 0.792090, accuracy: 68.8% [    0/60000]\n",
      "loss: 0.805913, accuracy: 73.4% [ 6400/60000]\n",
      "loss: 0.890950, accuracy: 62.5% [12800/60000]\n",
      "loss: 1.044812, accuracy: 65.6% [19200/60000]\n",
      "loss: 0.819810, accuracy: 68.8% [25600/60000]\n",
      "loss: 0.694685, accuracy: 75.0% [32000/60000]\n",
      "loss: 0.876458, accuracy: 64.1% [38400/60000]\n",
      "loss: 0.726947, accuracy: 71.9% [44800/60000]\n",
      "loss: 0.858135, accuracy: 68.8% [51200/60000]\n",
      "loss: 0.782524, accuracy: 64.1% [57600/60000]\n",
      "Test Error: \n",
      " Accuracy: 69.6%, Avg loss: 0.813922 \n",
      "\n",
      "Epoch 10\n",
      "--------------------------\n",
      "loss: 0.786701, accuracy: 71.9% [    0/60000]\n",
      "loss: 0.768978, accuracy: 75.0% [ 6400/60000]\n",
      "loss: 0.805099, accuracy: 75.0% [12800/60000]\n",
      "loss: 0.878326, accuracy: 68.8% [19200/60000]\n",
      "loss: 0.698445, accuracy: 70.3% [25600/60000]\n",
      "loss: 0.833873, accuracy: 71.9% [32000/60000]\n",
      "loss: 0.647452, accuracy: 78.1% [38400/60000]\n",
      "loss: 0.693000, accuracy: 73.4% [44800/60000]\n",
      "loss: 0.708201, accuracy: 68.8% [51200/60000]\n",
      "loss: 0.738914, accuracy: 75.0% [57600/60000]\n",
      "Test Error: \n",
      " Accuracy: 70.3%, Avg loss: 0.784348 \n",
      "\n",
      "Done!\n"
     ]
    }
   ],
   "source": [
    "for t in range(epochs):\n",
    "    print(f\"Epoch {t+1}\\n--------------------------\")\n",
    "    train_loop(train_loader, model, loss_fn, optimizer, t+1)\n",
    "    test_loop(test_loader, model, loss_fn, optimizer, t+1)\n",
    "print(\"Done!\")"
   ]
  },
  {
   "cell_type": "code",
   "execution_count": null,
   "id": "8728de5f-8ea9-44cb-958c-b5acf0e820ac",
   "metadata": {},
   "outputs": [],
   "source": []
  }
 ],
 "metadata": {
  "kernelspec": {
   "display_name": "Python 3 (ipykernel)",
   "language": "python",
   "name": "python3"
  },
  "language_info": {
   "codemirror_mode": {
    "name": "ipython",
    "version": 3
   },
   "file_extension": ".py",
   "mimetype": "text/x-python",
   "name": "python",
   "nbconvert_exporter": "python",
   "pygments_lexer": "ipython3",
   "version": "3.9.12"
  }
 },
 "nbformat": 4,
 "nbformat_minor": 5
}
